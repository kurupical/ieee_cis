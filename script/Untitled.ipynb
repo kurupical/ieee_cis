{
 "cells": [
  {
   "cell_type": "code",
   "execution_count": 1,
   "metadata": {
    "collapsed": true
   },
   "outputs": [],
   "source": [
    "import pandas as pd\n",
    "import numpy as np"
   ]
  },
  {
   "cell_type": "code",
   "execution_count": 2,
   "metadata": {},
   "outputs": [],
   "source": []
  },
  {
   "cell_type": "code",
   "execution_count": 3,
   "metadata": {
    "collapsed": true
   },
   "outputs": [],
   "source": [
    "def reduce_mem_usage(df, verbose=True):\n",
    "    numerics = ['int16', 'int32', 'int64', 'float16', 'float32', 'float64']\n",
    "    start_mem = df.memory_usage().sum() / 1024**2    \n",
    "    for col in df.columns:\n",
    "        col_type = df[col].dtypes\n",
    "        if col_type in numerics:\n",
    "            c_min = df[col].min()\n",
    "            c_max = df[col].max()\n",
    "            if str(col_type)[:3] == 'int':\n",
    "                if c_min > np.iinfo(np.int8).min and c_max < np.iinfo(np.int8).max:\n",
    "                    df[col] = df[col].astype(np.int8)\n",
    "                elif c_min > np.iinfo(np.int16).min and c_max < np.iinfo(np.int16).max:\n",
    "                    df[col] = df[col].astype(np.int16)\n",
    "                elif c_min > np.iinfo(np.int32).min and c_max < np.iinfo(np.int32).max:\n",
    "                    df[col] = df[col].astype(np.int32)\n",
    "                elif c_min > np.iinfo(np.int64).min and c_max < np.iinfo(np.int64).max:\n",
    "                    df[col] = df[col].astype(np.int64)  \n",
    "            else:\n",
    "                if c_min > np.finfo(np.float16).min and c_max < np.finfo(np.float16).max:\n",
    "                    df[col] = df[col].astype(np.float16)\n",
    "                elif c_min > np.finfo(np.float32).min and c_max < np.finfo(np.float32).max:\n",
    "                    df[col] = df[col].astype(np.float32)\n",
    "                else:\n",
    "                    df[col] = df[col].astype(np.float64)    \n",
    "    end_mem = df.memory_usage().sum() / 1024**2\n",
    "    if verbose: print('Mem. usage decreased to {:5.2f} Mb ({:.1f}% reduction)'.format(end_mem, 100 * (start_mem - end_mem) / start_mem))\n",
    "    return df\n"
   ]
  },
  {
   "cell_type": "code",
   "execution_count": 4,
   "metadata": {},
   "outputs": [
    {
     "name": "stdout",
     "output_type": "stream",
     "text": [
      "Mem. usage decreased to 650.48 Mb (66.8% reduction)\n"
     ]
    }
   ],
   "source": []
  },
  {
   "cell_type": "code",
   "execution_count": 15,
   "metadata": {
    "collapsed": true
   },
   "outputs": [],
   "source": [
    "def aggregate(df):\n",
    "    numeric_cols = []\n",
    "    numeric_cols.extend([\"C{}\".format(x) for x in np.arange(1, 14+1)])\n",
    "    numeric_cols.extend([\"D{}\".format(x) for x in np.arange(1, 15+1)])\n",
    "    numeric_cols.extend([\"V{}\".format(x) for x in np.arange(1, 339+1)])\n",
    "    numeric_cols.extend([\"id_{:2d}\".format(x).replace(\" \", \"0\").format(x) for x in np.arange(1, 11+1)])\n",
    "    key_cols = [\"card1\", \"card2\", \"card3\", \"card4\", \"card5\", \"card6\"]\n",
    "    aggs = [\"count\", \"sum\", \"mean\", \"std\", \"max\", \"min\"]\n",
    "    for agg in aggs:\n",
    "        print(agg)\n",
    "        df_merge = df[numeric_cols+key_cols].drop(\"isFraud\", axis=1, errors=\"ignore\").groupby(key_cols).transform(agg)\n",
    "        df_merge.columns = [\"{}_{}\".format(agg, x) for x in df_merge.columns]\n",
    "        df = pd.concat([df, df_merge], axis=1)\n",
    "        # df_train = reduce_mem_usage(df_train)\n",
    "    return df"
   ]
  },
  {
   "cell_type": "code",
   "execution_count": null,
   "metadata": {
    "collapsed": true
   },
   "outputs": [],
   "source": [
    "df_train = pd.merge(\n",
    "    pd.read_csv(\"../data/original/train_transaction.csv\"),\n",
    "    pd.read_csv(\"../data/original/train_identity.csv\"),\n",
    "    how=\"left\", on=\"TransactionID\"\n",
    ")\n",
    "df_train = reduce_mem_usage(df_train)\n",
    "df_test = aggregate(df_test)\n",
    "df_test = reduce_mem_usage(df_test)\n",
    "df_test.to_csv(\"train.csv\")"
   ]
  },
  {
   "cell_type": "code",
   "execution_count": 18,
   "metadata": {
    "scrolled": true
   },
   "outputs": [
    {
     "name": "stdout",
     "output_type": "stream",
     "text": [
      "Mem. usage decreased to 565.37 Mb (66.3% reduction)\n",
      "count\n",
      "sum\n",
      "mean\n",
      "std\n",
      "max\n",
      "min\n",
      "Mem. usage decreased to 3249.16 Mb (21.1% reduction)\n"
     ]
    }
   ],
   "source": [
    "df_test = pd.merge(\n",
    "    pd.read_csv(\"../data/original/test_transaction.csv\"),\n",
    "    pd.read_csv(\"../data/original/test_identity.csv\"),\n",
    "    how=\"left\", on=\"TransactionID\"\n",
    ")\n",
    "df_test = reduce_mem_usage(df_test)\n",
    "df_test = aggregate(df_test)\n",
    "df_test = reduce_mem_usage(df_test)\n",
    "df_test.to_csv(\"test.csv\")"
   ]
  },
  {
   "cell_type": "code",
   "execution_count": null,
   "metadata": {
    "collapsed": true
   },
   "outputs": [],
   "source": []
  }
 ],
 "metadata": {
  "kernelspec": {
   "display_name": "Python 3",
   "language": "python",
   "name": "python3"
  },
  "language_info": {
   "codemirror_mode": {
    "name": "ipython",
    "version": 3
   },
   "file_extension": ".py",
   "mimetype": "text/x-python",
   "name": "python",
   "nbconvert_exporter": "python",
   "pygments_lexer": "ipython3",
   "version": "3.6.1"
  }
 },
 "nbformat": 4,
 "nbformat_minor": 2
}
