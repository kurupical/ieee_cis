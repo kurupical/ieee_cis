{
 "cells": [
  {
   "cell_type": "code",
   "execution_count": 1,
   "metadata": {
    "collapsed": true
   },
   "outputs": [],
   "source": [
    "import pandas as pd\n",
    "import numpy as np\n",
    "import matplotlib.pyplot as plt"
   ]
  },
  {
   "cell_type": "code",
   "execution_count": 2,
   "metadata": {
    "collapsed": true
   },
   "outputs": [],
   "source": [
    "df_train = pd.read_feather(\"../data/original/train_all.feather\")\n",
    "df_test = pd.read_feather(\"../data/original/test_all.feather\")"
   ]
  },
  {
   "cell_type": "code",
   "execution_count": 3,
   "metadata": {},
   "outputs": [
    {
     "data": {
      "text/plain": [
       "0            86400\n",
       "1            86401\n",
       "2            86469\n",
       "3            86499\n",
       "4            86506\n",
       "            ...   \n",
       "590535    15811047\n",
       "590536    15811049\n",
       "590537    15811079\n",
       "590538    15811088\n",
       "590539    15811131\n",
       "Name: TransactionDT, Length: 590540, dtype: int32"
      ]
     },
     "execution_count": 3,
     "metadata": {},
     "output_type": "execute_result"
    }
   ],
   "source": [
    "df_train[\"TransactionDT\"]"
   ]
  },
  {
   "cell_type": "code",
   "execution_count": 4,
   "metadata": {},
   "outputs": [
    {
     "data": {
      "text/plain": [
       "0         18403224\n",
       "1         18403263\n",
       "2         18403310\n",
       "3         18403310\n",
       "4         18403317\n",
       "            ...   \n",
       "506686    34214279\n",
       "506687    34214287\n",
       "506688    34214326\n",
       "506689    34214337\n",
       "506690    34214345\n",
       "Name: TransactionDT, Length: 506691, dtype: int32"
      ]
     },
     "execution_count": 4,
     "metadata": {},
     "output_type": "execute_result"
    }
   ],
   "source": [
    "df_test[\"TransactionDT\"]"
   ]
  },
  {
   "cell_type": "code",
   "execution_count": 8,
   "metadata": {
    "collapsed": true
   },
   "outputs": [],
   "source": [
    "def _get_categorical_features(df):\n",
    "    numerics = ['int16', 'int32', 'int64', 'float16', 'float32', 'float64']\n",
    "    feats = [col for col in list(df.columns) if df[col].dtype not in numerics]\n",
    "\n",
    "    cat_cols = []\n",
    "    cat_cols.extend([\"ProductCD\"])\n",
    "    cat_cols.extend([\"card{}\".format(x) for x in np.arange(1, 6+1)])\n",
    "    cat_cols.extend([\"addr1\", \"addr2\"])\n",
    "    cat_cols.extend([\"P_emaildomain\", \"R_emaildomain\"])\n",
    "    cat_cols.extend([\"M{}\".format(x) for x in np.arange(1, 9+1)])\n",
    "    cat_cols.extend([\"DeviceType\", \"DeviceInfo\"])\n",
    "    cat_cols.extend([\"id_{}\".format(x) for x in np.arange(12, 38+1)])\n",
    "\n",
    "    cat_cols = [x for x in df.columns if x in cat_cols]\n",
    "    feats.extend([x for x in cat_cols if x not in feats])\n",
    "    return feats"
   ]
  },
  {
   "cell_type": "code",
   "execution_count": null,
   "metadata": {},
   "outputs": [],
   "source": [
    "def make_hist(dfs, label, col, output_dir, xscale=\"log\", yscale=\"linear\", is_output_jpg=True):\n",
    "    fig, axs = plt.subplots(2, 1, figsize=(20, 12))\n",
    "    axs[0].hist(dfs, label=label, bins=20)\n",
    "    axs[0].set_xlabel(\"scale:{}\".format(xscale))\n",
    "    axs[0].set_ylabel(\"scale:{}\".format(yscale))\n",
    "    axs[0].set_xscale(xscale)\n",
    "    axs[0].set_yscale(yscale)\n",
    "    axs[0].set_title(col)\n",
    "    nan_counts = [df.isnull().sum() for df in dfs]\n",
    "    \n",
    "    axs[1].bar(np.arange(len(dfs)),\n",
    "               nan_counts,\n",
    "               tick_label=label)\n",
    "    axs[1].set_title(\"{} [nan_counts]\".format(title))\n",
    "    plt.legend()\n",
    "    if is_output_jpg:\n",
    "        plt.savefig(output_dir)\n",
    "    plt.show()"
   ]
  },
  {
   "cell_type": "code",
   "execution_count": null,
   "metadata": {},
   "outputs": [],
   "source": [
    "def make_bar(dfs, label, col, output_dir, log=True, top_num=20, is_output_jpg=True):\n",
    "    counts = []\n",
    "    for df in dfs:\n",
    "        df = df.fillna(\"NAN\")\n",
    "        counts.append(df.value_counts())\n",
    "\n",
    "    categories = []\n",
    "    for c in counts:\n",
    "        categories.extend(c.index[:top_num])\n",
    "\n",
    "    if len(set(categories)) >= top_num:\n",
    "        # class数が top_num以上\n",
    "        categories.append(\"other\")\n",
    "    lb = LabelEncoder().fit(categories)\n",
    "\n",
    "    width = 0.8 / len(dfs)\n",
    "    plt.figure(figsize=(20, 8))\n",
    "    for i in range(len(counts)):\n",
    "        if len(lb.classes_) >= top_num:\n",
    "            c_other_cols = [str(x) for x in counts[i].index if x not in lb.classes_]\n",
    "            counts[i].index = [str(x) for x in counts[i].index]\n",
    "            counts[i] = counts[i][lb.classes_].append(pd.Series([counts[i][c_other_cols].sum()], index=[\"other\"]))\n",
    "\n",
    "        plt.bar(lb.transform(counts[i].index) + width*(i+1) - 0.8,\n",
    "                counts[i].values,\n",
    "                width=width,\n",
    "                log=log,\n",
    "                label=label[i],\n",
    "                tick_label=[\"c_{}\".format(x) for x in counts[i].index])\n",
    "    plt.legend()\n",
    "    plt.xticks(rotation=45)\n",
    "    plt.title(\"{}_y-axis=log:{}\".format(col, log))\n",
    "    if is_output_jpg:\n",
    "        plt.savefig(output_dir)\n",
    "    plt.show()"
   ]
  },
  {
   "cell_type": "code",
   "execution_count": null,
   "metadata": {
    "scrolled": false
   },
   "outputs": [],
   "source": [
    "cat_feats = _get_categorical_features(df_test)\n",
    "for col in df_test.columns:\n",
    "    if col in cat_feats: # (\"0\")\n",
    "         make_bar(dfs=[df_train[col], df_test[col]], \n",
    "                  label=[\"train\", \"test\"],\n",
    "                  col=col,\n",
    "                  top_num=20,\n",
    "                  log=False,\n",
    "                  output_dir=\"split_dt_visualize/train-test/{}.jpg\".format(col))\n",
    "    else:\n",
    "        dfs = [df_train[col], df_test[col]]\n",
    "        label = [\"train\", \"test\"]\n",
    "        make_hist(dfs=dfs, \n",
    "                  label=label, \n",
    "                  col=col,\n",
    "                  xscale=\"linear\",\n",
    "                  yscale=\"linear\",\n",
    "                  output_dir=\"split_dt_visualize/train-test/{}.jpg\".format(col))"
   ]
  },
  {
   "cell_type": "code",
   "execution_count": null,
   "metadata": {
    "collapsed": true
   },
   "outputs": [],
   "source": []
  },
  {
   "cell_type": "code",
   "execution_count": null,
   "metadata": {
    "collapsed": true
   },
   "outputs": [],
   "source": []
  }
 ],
 "metadata": {
  "kernelspec": {
   "display_name": "Python 3",
   "language": "python",
   "name": "python3"
  }
 },
 "nbformat": 4,
 "nbformat_minor": 2
}
