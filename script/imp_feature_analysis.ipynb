{
 "cells": [
  {
   "cell_type": "code",
   "execution_count": 11,
   "metadata": {
    "collapsed": true
   },
   "outputs": [],
   "source": [
    "import pandas as pd\n",
    "import numpy as np\n",
    "import matplotlib.pyplot as plt\n",
    "import seaborn as sns"
   ]
  },
  {
   "cell_type": "code",
   "execution_count": 4,
   "metadata": {},
   "outputs": [],
   "source": [
    "df_train = pd.read_feather(\"../data/merge/train_merge.feather\")\n",
    "df_test = pd.read_feather(\"../data/merge/test_merge.feather\")"
   ]
  },
  {
   "cell_type": "code",
   "execution_count": 9,
   "metadata": {},
   "outputs": [
    {
     "data": {
      "text/plain": [
       "0     30609\n",
       "1     26426\n",
       "2     22211\n",
       "3     17280\n",
       "4     12297\n",
       "5      8020\n",
       "6      4844\n",
       "7      2965\n",
       "8      2254\n",
       "9      2354\n",
       "10     3534\n",
       "11     6530\n",
       "12    11833\n",
       "13    19484\n",
       "14    25930\n",
       "15    30575\n",
       "16    33954\n",
       "17    35204\n",
       "18    35287\n",
       "19    35755\n",
       "20    35483\n",
       "21    35498\n",
       "22    34709\n",
       "23    33655\n",
       "Name: TransactionDT_hhmmss, dtype: int64"
      ]
     },
     "execution_count": 9,
     "metadata": {},
     "output_type": "execute_result"
    }
   ],
   "source": [
    "(df_test[\"TransactionDT_hhmmss\"] // (60*60)).value_counts().sort_index()"
   ]
  },
  {
   "cell_type": "code",
   "execution_count": 12,
   "metadata": {
    "collapsed": true
   },
   "outputs": [],
   "source": [
    "def ploting_cnt_amt(DataFile, Column, lim=2000):\n",
    "    tmp = pd.crosstab(DataFile[Column], DataFile['isFraud'], normalize='index') * 100\n",
    "    tmp = tmp.reset_index()\n",
    "    tmp.rename(columns={0:'NoFraud', 1:'Fraud'}, inplace=True)\n",
    "    \n",
    "    plt.figure(figsize=(16,14))    \n",
    "    plt.suptitle(f'{Column} Distributions ', fontsize=24)\n",
    "    \n",
    "    plt.subplot(211)\n",
    "    plot_1 = sns.countplot(x=Column,data=DataFile,order=list(tmp[Column].values))\n",
    "    plot_1_2 = plot_1.twinx()\n",
    "    plot_1_2 = sns.pointplot(x=Column, y='Fraud', data=tmp, order=list(tmp[Column].values),\n",
    "                       color='black', legend=False)\n",
    "    plot_1_2.set_ylim(0,tmp['Fraud'].max()*1.1)\n",
    "    plot_1_2.set_ylabel(\"%Fraud Transactions\", fontsize=16)\n",
    "    plot_1.set_title(f\"Most Frequent {Column} values and % Fraud Transactions\", fontsize=20)\n",
    "    plot_1.set_xlabel(f\"{Column} Category Names\", fontsize=16)\n",
    "    plot_1.set_ylabel(\"Count\", fontsize=17)\n",
    "    plot_1.set_xticklabels(plot_1.get_xticklabels(),rotation=45)\n",
    "    sizes = []\n",
    "    for p in plot_1.patches:\n",
    "        height = p.get_height()\n",
    "        sizes.append(height)\n",
    "        plot_1.text(p.get_x()+p.get_width()/2.,\n",
    "                height + 3,\n",
    "                '{:1.2f}%'.format(height/total*100),\n",
    "                ha=\"center\",fontsize=12) \n",
    "        \n",
    "    plot_1.set_ylim(0,max(sizes)*1.15)\n",
    "    \n",
    "    #########################################################################\n",
    "    perc_amt = (DataFile.groupby(['isFraud',Column])['TransactionAmt'].sum() \\\n",
    "                / DataFile.groupby([Column])['TransactionAmt'].sum() * 100).unstack('isFraud')\n",
    "    perc_amt = perc_amt.reset_index()\n",
    "    perc_amt.rename(columns={0:'NoFraud', 1:'Fraud'}, inplace=True)\n",
    "    amt = DataFile.groupby([Column])['TransactionAmt'].sum().reset_index()\n",
    "    perc_amt = perc_amt.fillna(0)\n",
    "    plt.subplot(212)\n",
    "    plot_2 = sns.barplot(x=Column, y='TransactionAmt', \n",
    "                       data=amt, \n",
    "                       order=list(tmp[Column].values))\n",
    "    plot_2_2 = plot_2.twinx()\n",
    "    plot_2_2 = sns.pointplot(x=Column, y='Fraud', data=perc_amt, \n",
    "                        order=list(tmp[Column].values),\n",
    "                       color='black', legend=False, )\n",
    "    plot_2_2.set_ylim(0,perc_amt['Fraud'].max()*1.1)\n",
    "    plot_2_2.set_ylabel(\"%Fraud Total Amount\", fontsize=16)\n",
    "    plot_2.set_xticklabels(plot_2.get_xticklabels(),rotation=45)\n",
    "    plot_2.set_title(f\"{Column} by Transactions Total + %of total and %Fraud Transactions\", fontsize=20)\n",
    "    plot_2.set_xlabel(f\"{Column} Category Names\", fontsize=16)\n",
    "    plot_2.set_ylabel(\"Transaction Total Amount(U$)\", fontsize=16)\n",
    "    plot_2.set_xticklabels(plot_2.get_xticklabels(),rotation=45)    \n",
    "    \n",
    "    for p in plot_2.patches:\n",
    "        height = p.get_height()\n",
    "        plot_2.text(p.get_x()+p.get_width()/2.,\n",
    "                height + 3,\n",
    "                '{:1.2f}%'.format(height/total_amt*100),\n",
    "                ha=\"center\",fontsize=12) \n",
    "        \n",
    "    plt.subplots_adjust(hspace=.4, top = 0.9)\n",
    "    plt.show()\n",
    "    "
   ]
  },
  {
   "cell_type": "code",
   "execution_count": 13,
   "metadata": {},
   "outputs": [
    {
     "name": "stderr",
     "output_type": "stream",
     "text": [
      "/home/owner/anaconda3/lib/python3.6/site-packages/seaborn/categorical.py:1428: FutureWarning: remove_na is deprecated and is a private function. Do not use.\n",
      "  stat_data = remove_na(group_data)\n"
     ]
    },
    {
     "ename": "NameError",
     "evalue": "name 'total' is not defined",
     "output_type": "error",
     "traceback": [
      "\u001b[0;31m---------------------------------------------------------------------------\u001b[0m",
      "\u001b[0;31mNameError\u001b[0m                                 Traceback (most recent call last)",
      "\u001b[0;32m<ipython-input-13-64ead9c75b5e>\u001b[0m in \u001b[0;36m<module>\u001b[0;34m()\u001b[0m\n\u001b[0;32m----> 1\u001b[0;31m \u001b[0mploting_cnt_amt\u001b[0m\u001b[0;34m(\u001b[0m\u001b[0mdf_train\u001b[0m\u001b[0;34m,\u001b[0m \u001b[0;34m\"diff_TransactionDay_D1\"\u001b[0m\u001b[0;34m)\u001b[0m\u001b[0;34m\u001b[0m\u001b[0m\n\u001b[0m",
      "\u001b[0;32m<ipython-input-12-0473fc3bc1d0>\u001b[0m in \u001b[0;36mploting_cnt_amt\u001b[0;34m(DataFile, Column, lim)\u001b[0m\n\u001b[1;32m     24\u001b[0m         plot_1.text(p.get_x()+p.get_width()/2.,\n\u001b[1;32m     25\u001b[0m                 \u001b[0mheight\u001b[0m \u001b[0;34m+\u001b[0m \u001b[0;36m3\u001b[0m\u001b[0;34m,\u001b[0m\u001b[0;34m\u001b[0m\u001b[0m\n\u001b[0;32m---> 26\u001b[0;31m                 \u001b[0;34m'{:1.2f}%'\u001b[0m\u001b[0;34m.\u001b[0m\u001b[0mformat\u001b[0m\u001b[0;34m(\u001b[0m\u001b[0mheight\u001b[0m\u001b[0;34m/\u001b[0m\u001b[0mtotal\u001b[0m\u001b[0;34m*\u001b[0m\u001b[0;36m100\u001b[0m\u001b[0;34m)\u001b[0m\u001b[0;34m,\u001b[0m\u001b[0;34m\u001b[0m\u001b[0m\n\u001b[0m\u001b[1;32m     27\u001b[0m                 ha=\"center\",fontsize=12) \n\u001b[1;32m     28\u001b[0m \u001b[0;34m\u001b[0m\u001b[0m\n",
      "\u001b[0;31mNameError\u001b[0m: name 'total' is not defined"
     ]
    }
   ],
   "source": [
    "ploting_cnt_amt(df_train, \"diff_TransactionDay_D1\")"
   ]
  },
  {
   "cell_type": "code",
   "execution_count": 18,
   "metadata": {},
   "outputs": [
    {
     "data": {
      "image/png": "[encoded data removed]",
      "text/plain": [
       "<Figure size 576x396 with 1 Axes>"
      ]
     },
     "metadata": {},
     "output_type": "display_data"
    }
   ],
   "source": [
    "df_train.query(\"isFraud==1\")[\"diff_TransactionDay_D1\"].hist()\n",
    "plt.show()"
   ]
  },
  {
   "cell_type": "code",
   "execution_count": 17,
   "metadata": {},
   "outputs": [
    {
     "data": {
      "image/png": "[encoded data removed]",
      "text/plain": [
       "<Figure size 576x396 with 1 Axes>"
      ]
     },
     "metadata": {},
     "output_type": "display_data"
    }
   ],
   "source": [
    "df_train.query(\"isFraud==0\")[\"diff_TransactionDay_D1\"].hist()\n",
    "plt.show()"
   ]
  },
  {
   "cell_type": "code",
   "execution_count": 19,
   "metadata": {},
   "outputs": [
    {
     "data": {
      "image/png": "[encoded data removed]",
      "text/plain": [
       "<Figure size 576x396 with 1 Axes>"
      ]
     },
     "metadata": {},
     "output_type": "display_data"
    }
   ],
   "source": [
    "df_train.query(\"isFraud==1\")[\"diff_TransactionDay_D15\"].hist()\n",
    "plt.show()"
   ]
  },
  {
   "cell_type": "code",
   "execution_count": 20,
   "metadata": {},
   "outputs": [
    {
     "data": {
      "image/png": "[encoded data removed]",
      "text/plain": [
       "<Figure size 576x396 with 1 Axes>"
      ]
     },
     "metadata": {},
     "output_type": "display_data"
    }
   ],
   "source": [
    "df_train.query(\"isFraud==0\")[\"diff_TransactionDay_D15\"].hist()\n",
    "plt.show()"
   ]
  },
  {
   "cell_type": "code",
   "execution_count": 21,
   "metadata": {},
   "outputs": [
    {
     "data": {
      "text/plain": [
       "TransactionWeekday  ProductCD\n",
       "Friday              C            11802\n",
       "                    H             4914\n",
       "                    R             6426\n",
       "                    S             1472\n",
       "                    W            73888\n",
       "Monday              C             9062\n",
       "                    H             5835\n",
       "                    R             5722\n",
       "                    S             1870\n",
       "                    W            62944\n",
       "Saturday            C             9392\n",
       "                    H             4766\n",
       "                    R             4969\n",
       "                    S             1169\n",
       "                    W            59538\n",
       "Sunday              C             8968\n",
       "                    H             4981\n",
       "                    R             4799\n",
       "                    S             2116\n",
       "                    W            49359\n",
       "Thursday            C            10492\n",
       "                    H             4130\n",
       "                    R             5521\n",
       "                    S             1527\n",
       "                    W            64707\n",
       "Tuesday             C             9282\n",
       "                    H             4299\n",
       "                    R             4923\n",
       "                    S             1715\n",
       "                    W            64596\n",
       "Wednesday           C             9521\n",
       "                    H             4099\n",
       "                    R             5339\n",
       "                    S             1759\n",
       "                    W            64638\n",
       "Name: TransactionID, dtype: int64"
      ]
     },
     "execution_count": 21,
     "metadata": {},
     "output_type": "execute_result"
    }
   ],
   "source": [
    "df_train.groupby([\"TransactionWeekday\", \"ProductCD\"])[\"TransactionID\"].count()"
   ]
  },
  {
   "cell_type": "code",
   "execution_count": null,
   "metadata": {
    "collapsed": true
   },
   "outputs": [],
   "source": []
  }
 ],
 "metadata": {
  "kernelspec": {
   "display_name": "Python 3",
   "language": "python",
   "name": "python3"
  },
  "language_info": {
   "codemirror_mode": {
    "name": "ipython",
    "version": 3
   },
   "file_extension": ".py",
   "mimetype": "text/x-python",
   "name": "python",
   "nbconvert_exporter": "python",
   "pygments_lexer": "ipython3",
   "version": "3.6.1"
  }
 },
 "nbformat": 4,
 "nbformat_minor": 2
}
